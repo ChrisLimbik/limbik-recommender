{
 "cells": [
  {
   "cell_type": "code",
   "execution_count": 4,
   "metadata": {},
   "outputs": [
    {
     "name": "stdout",
     "output_type": "stream",
     "text": [
      "(34, 2)\n"
     ]
    }
   ],
   "source": [
    "import pandas as pd\n",
    "filename = 'csv-data/Tag-Types.csv'\n",
    "tags = pd.read_csv(filename, encoding='latin-1')\n",
    "print(tags.shape)"
   ]
  },
  {
   "cell_type": "code",
   "execution_count": 7,
   "metadata": {},
   "outputs": [
    {
     "name": "stdout",
     "output_type": "stream",
     "text": [
      "                                      taxonomyType     source\n",
      "0                                        Adjective     manual\n",
      "1                                 Audible Concepts  automated\n",
      "2              Average shot changes per 10 seconds  automated\n",
      "3           Average Word Height - First 10 Seconds  automated\n",
      "4            Average Word Width - First 10 Seconds  automated\n",
      "5       Average Words on Screen - First 10 Seconds  automated\n",
      "6  Average Words Time on Screen - First 10 Seconds  automated\n",
      "7                                            Brand     manual\n",
      "8                          Brightcove Content Tags   provider\n",
      "9                                         Category     manual\n"
     ]
    }
   ],
   "source": [
    "peek = tags.head(10)\n",
    "print(peek)"
   ]
  },
  {
   "cell_type": "code",
   "execution_count": 8,
   "metadata": {},
   "outputs": [
    {
     "name": "stdout",
     "output_type": "stream",
     "text": [
      "taxonomyType    object\n",
      "source          object\n",
      "dtype: object\n"
     ]
    }
   ],
   "source": [
    "types = tags.dtypes\n",
    "print(types)"
   ]
  },
  {
   "cell_type": "code",
   "execution_count": 9,
   "metadata": {},
   "outputs": [
    {
     "name": "stdout",
     "output_type": "stream",
     "text": [
      "source\n",
      "automated    18\n",
      "manual        7\n",
      "mturk         2\n",
      "provider      7\n",
      "dtype: int64\n"
     ]
    }
   ],
   "source": [
    "source_counts = tags.groupby('source').size()\n",
    "print(source_counts)"
   ]
  }
 ],
 "metadata": {
  "kernelspec": {
   "display_name": "Python 3",
   "language": "python",
   "name": "python3"
  },
  "language_info": {
   "codemirror_mode": {
    "name": "ipython",
    "version": 3
   },
   "file_extension": ".py",
   "mimetype": "text/x-python",
   "name": "python",
   "nbconvert_exporter": "python",
   "pygments_lexer": "ipython3",
   "version": "3.6.4"
  }
 },
 "nbformat": 4,
 "nbformat_minor": 2
}

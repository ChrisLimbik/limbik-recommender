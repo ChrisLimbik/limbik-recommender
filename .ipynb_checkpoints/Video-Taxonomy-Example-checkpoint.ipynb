{
 "cells": [
  {
   "cell_type": "code",
   "execution_count": 1,
   "metadata": {},
   "outputs": [
    {
     "name": "stdout",
     "output_type": "stream",
     "text": [
      "(113, 2)\n"
     ]
    }
   ],
   "source": [
    "import pandas as pd\n",
    "filename = 'csv-data/Example-Video-Taxonomy.csv'\n",
    "taxonomy = pd.read_csv(filename, encoding='latin-1')\n",
    "print(taxonomy.shape)"
   ]
  },
  {
   "cell_type": "code",
   "execution_count": 2,
   "metadata": {},
   "outputs": [
    {
     "name": "stdout",
     "output_type": "stream",
     "text": [
      "                          taxonomyType                    canonicalName/value\n",
      "0                            adjective                               Original\n",
      "1                            adjective                               Exciting\n",
      "2                            adjective                            Interesting\n",
      "3                            adjective                              Shareable\n",
      "4                            adjective                                  Funny\n",
      "5                            adjective                           Entertaining\n",
      "6  Average shot changes per 10 seconds  7 average shot changes per 10 seconds\n",
      "7         averageMixedSentimentPercent                                   16.2\n",
      "8      averageNegativeSentimentPercent                                  17.82\n",
      "9       averageNeutralSentimentPercent                                   32.6\n"
     ]
    }
   ],
   "source": [
    "peek = taxonomy.head(10)\n",
    "print(peek)"
   ]
  },
  {
   "cell_type": "code",
   "execution_count": 3,
   "metadata": {},
   "outputs": [
    {
     "name": "stdout",
     "output_type": "stream",
     "text": [
      "taxonomyType           object\n",
      "canonicalName/value    object\n",
      "dtype: object\n"
     ]
    }
   ],
   "source": [
    "types = taxonomy.dtypes\n",
    "print(types)"
   ]
  },
  {
   "cell_type": "code",
   "execution_count": 4,
   "metadata": {},
   "outputs": [
    {
     "name": "stdout",
     "output_type": "stream",
     "text": [
      "taxonomyType\n",
      "Average shot changes per 10 seconds        1\n",
      "Duration                                   1\n",
      "Facebook_Content_Tags                      7\n",
      "Rekognition Celebrities                    3\n",
      "Rekognition Labels                        59\n",
      "Total Shot Changes - First 10 Seconds      1\n",
      "Total shot changes - first 30 seconds      1\n",
      "adjective                                  6\n",
      "averageMixedSentimentPercent               1\n",
      "averageNegativeSentimentPercent            1\n",
      "averageNeutralSentimentPercent             1\n",
      "averagePositiveSentimentPercent            1\n",
      "averageShotChangesPer10Seconds             1\n",
      "averageWordDurationFirst10Seconds          1\n",
      "averageWordHeightPercentFirst10Seconds     1\n",
      "averageWordWidthPercentFirst10Seconds      1\n",
      "averageWordsOnScreenFirst10Seconds         1\n",
      "category                                   2\n",
      "comprehendTopTenPhrases                    1\n",
      "contextual                                 1\n",
      "description                                1\n",
      "duration                                   1\n",
      "format                                     5\n",
      "maxWordsOnScreenFirst10Seconds             1\n",
      "minWordsOnScreenFirst10Seconds             1\n",
      "player                                     1\n",
      "provider                                   1\n",
      "sentiment                                  1\n",
      "shotChangesFirst10Secs                     1\n",
      "shotChangesFirst30Secs                     1\n",
      "soundtrack                                 2\n",
      "title                                      1\n",
      "type                                       2\n",
      "wordsFirst10Seconds                        1\n",
      "wordsPerSecondFirst10Seconds               1\n",
      "dtype: int64\n"
     ]
    }
   ],
   "source": [
    "taxonomy_counts = taxonomy.groupby('taxonomyType').size()\n",
    "print(taxonomy_counts)"
   ]
  }
 ],
 "metadata": {
  "kernelspec": {
   "display_name": "Python 3",
   "language": "python",
   "name": "python3"
  },
  "language_info": {
   "codemirror_mode": {
    "name": "ipython",
    "version": 3
   },
   "file_extension": ".py",
   "mimetype": "text/x-python",
   "name": "python",
   "nbconvert_exporter": "python",
   "pygments_lexer": "ipython3",
   "version": "3.6.4"
  }
 },
 "nbformat": 4,
 "nbformat_minor": 2
}
